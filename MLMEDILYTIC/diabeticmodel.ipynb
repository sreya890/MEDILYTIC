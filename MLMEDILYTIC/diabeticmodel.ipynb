{
 "cells": [
  {
   "cell_type": "code",
   "execution_count": 1,
   "id": "f936fe8c",
   "metadata": {},
   "outputs": [
    {
     "name": "stdout",
     "output_type": "stream",
     "text": [
      "Accuracy: 0.9504950495049505\n"
     ]
    }
   ],
   "source": [
    "import pandas as pd\n",
    "from sklearn.model_selection import train_test_split\n",
    "from sklearn.preprocessing import OneHotEncoder\n",
    "from sklearn.compose import ColumnTransformer\n",
    "from xgboost import XGBClassifier\n",
    "from sklearn.metrics import accuracy_score\n",
    "\n",
    "# Load the dataset\n",
    "df = pd.read_csv('C:/Users/sreya/Downloads/Dataset/pred_food.csv')\n",
    "\n",
    "# Encode categorical variable\n",
    "encoder = OneHotEncoder()\n",
    "X_encoded = encoder.fit_transform(df[['Food Name']])\n",
    "\n",
    "# Create a DataFrame with the encoded features\n",
    "X_encoded_df = pd.DataFrame(X_encoded.toarray(), columns=encoder.get_feature_names_out(['Food Name']))\n",
    "\n",
    "# Concatenate the encoded features with other numerical features\n",
    "X = pd.concat([X_encoded_df, df['Glycemic Index']], axis=1)\n",
    "\n",
    "# Separate the target variable\n",
    "y = df['Suitable for Diabetes']\n",
    "\n",
    "# Split the dataset into training and testing sets\n",
    "X_train, X_test, y_train, y_test = train_test_split(X, y, test_size=0.2, random_state=42)\n",
    "\n",
    "# Define the XGBoost classifier\n",
    "xgb_classifier = XGBClassifier(random_state=42)\n",
    "\n",
    "# Fit the model to the training data\n",
    "xgb_classifier.fit(X_train, y_train)\n",
    "\n",
    "# Make predictions\n",
    "y_pred = xgb_classifier.predict(X_test)\n",
    "\n",
    "# Evaluate the model\n",
    "accuracy = accuracy_score(y_test, y_pred)\n",
    "print(\"Accuracy:\", accuracy)\n"
   ]
  },
  {
   "cell_type": "code",
   "execution_count": 2,
   "id": "bfe7fa1d",
   "metadata": {},
   "outputs": [
    {
     "name": "stdout",
     "output_type": "stream",
     "text": [
      "Mean Absolute Error (MAE): 0.04950495049504951\n"
     ]
    }
   ],
   "source": [
    "from sklearn.metrics import mean_absolute_error\n",
    "\n",
    "# Assuming y_true contains the true target values and y_pred contains the predicted values\n",
    "mae = mean_absolute_error(y_test, y_pred)\n",
    "\n",
    "print(\"Mean Absolute Error (MAE):\", mae)\n"
   ]
  },
  {
   "cell_type": "code",
   "execution_count": 3,
   "id": "9afd4cc8",
   "metadata": {},
   "outputs": [
    {
     "name": "stdout",
     "output_type": "stream",
     "text": [
      "Predictions: [0]\n"
     ]
    }
   ],
   "source": [
    "# Assuming you have the food name \"Apple\" and its corresponding glycemic index value\n",
    "new_data = pd.DataFrame({'Food Name': ['Butter Naan'],\n",
    "                         'Glycemic Index': [70]})\n",
    "\n",
    "# Encode the categorical variable \"Food Name\"\n",
    "X_new_encoded = encoder.transform(new_data[['Food Name']])\n",
    "\n",
    "# Create a DataFrame with the encoded features\n",
    "X_new_encoded_df = pd.DataFrame(X_new_encoded.toarray(), columns=encoder.get_feature_names_out(['Food Name']))\n",
    "\n",
    "# Concatenate the encoded features with the glycemic index value\n",
    "X_new = pd.concat([X_new_encoded_df, new_data['Glycemic Index']], axis=1)\n",
    "\n",
    "# Make predictions\n",
    "predictions = xgb_classifier.predict(X_new)\n",
    "\n",
    "# Print predictions\n",
    "print(\"Predictions:\", predictions)\n"
   ]
  },
  {
   "cell_type": "code",
   "execution_count": 4,
   "id": "0cf44fc9",
   "metadata": {},
   "outputs": [
    {
     "data": {
      "text/plain": [
       "['xgb_classifier.joblib']"
      ]
     },
     "execution_count": 4,
     "metadata": {},
     "output_type": "execute_result"
    }
   ],
   "source": [
    "from joblib import dump\n",
    "dump(xgb_classifier, 'xgb_classifier.joblib')\n"
   ]
  },
  {
   "cell_type": "code",
   "execution_count": null,
   "id": "e1bbec34",
   "metadata": {},
   "outputs": [],
   "source": []
  }
 ],
 "metadata": {
  "kernelspec": {
   "display_name": "Python 3 (ipykernel)",
   "language": "python",
   "name": "python3"
  },
  "language_info": {
   "codemirror_mode": {
    "name": "ipython",
    "version": 3
   },
   "file_extension": ".py",
   "mimetype": "text/x-python",
   "name": "python",
   "nbconvert_exporter": "python",
   "pygments_lexer": "ipython3",
   "version": "3.10.9"
  }
 },
 "nbformat": 4,
 "nbformat_minor": 5
}
