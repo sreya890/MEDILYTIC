{
 "cells": [
  {
   "cell_type": "code",
   "execution_count": 4,
   "id": "7e808a95",
   "metadata": {},
   "outputs": [],
   "source": [
    "import pandas as pd\n",
    "from sklearn.metrics.pairwise import cosine_similarity\n",
    "from sklearn.feature_extraction.text import TfidfVectorizer"
   ]
  },
  {
   "cell_type": "code",
   "execution_count": 5,
   "id": "f34376d5",
   "metadata": {},
   "outputs": [],
   "source": [
    "df = pd.read_csv(\"C:/Users/sreya/Downloads/Dataset/nutrition_1.csv\")\n"
   ]
  },
  {
   "cell_type": "code",
   "execution_count": 6,
   "id": "12e00aac",
   "metadata": {},
   "outputs": [],
   "source": [
    "df.drop(columns=['Column1', 'serving_size', 'calories'], inplace=True)\n"
   ]
  },
  {
   "cell_type": "code",
   "execution_count": 7,
   "id": "00f17c5b",
   "metadata": {},
   "outputs": [],
   "source": [
    "columns_to_clean = ['calcium', 'protein', 'carbohydrate', 'fiber', 'sugars', 'fat']\n",
    "for column in columns_to_clean:\n",
    "    df[column] = df[column].str.replace(' g', '').str.replace('mg', '').astype(float)"
   ]
  },
  {
   "cell_type": "code",
   "execution_count": 8,
   "id": "97f1b842",
   "metadata": {},
   "outputs": [
    {
     "name": "stderr",
     "output_type": "stream",
     "text": [
      "C:\\Users\\sreya\\AppData\\Local\\Temp\\ipykernel_41976\\1920348818.py:1: FutureWarning: The default value of numeric_only in DataFrame.mean is deprecated. In a future version, it will default to False. In addition, specifying 'numeric_only=None' is deprecated. Select only valid columns or specify the value of numeric_only to silence this warning.\n",
      "  df.fillna(df.mean(), inplace=True)\n"
     ]
    }
   ],
   "source": [
    "df.fillna(df.mean(), inplace=True)\n"
   ]
  },
  {
   "cell_type": "code",
   "execution_count": 9,
   "id": "e35ac431",
   "metadata": {},
   "outputs": [
    {
     "data": {
      "text/html": [
       "<div>\n",
       "<style scoped>\n",
       "    .dataframe tbody tr th:only-of-type {\n",
       "        vertical-align: middle;\n",
       "    }\n",
       "\n",
       "    .dataframe tbody tr th {\n",
       "        vertical-align: top;\n",
       "    }\n",
       "\n",
       "    .dataframe thead th {\n",
       "        text-align: right;\n",
       "    }\n",
       "</style>\n",
       "<table border=\"1\" class=\"dataframe\">\n",
       "  <thead>\n",
       "    <tr style=\"text-align: right;\">\n",
       "      <th></th>\n",
       "      <th>name</th>\n",
       "      <th>calcium</th>\n",
       "      <th>protein</th>\n",
       "      <th>carbohydrate</th>\n",
       "      <th>fiber</th>\n",
       "      <th>sugars</th>\n",
       "      <th>fat</th>\n",
       "    </tr>\n",
       "  </thead>\n",
       "  <tbody>\n",
       "    <tr>\n",
       "      <th>0</th>\n",
       "      <td>Cornstarch</td>\n",
       "      <td>2.0</td>\n",
       "      <td>0.26</td>\n",
       "      <td>91.27</td>\n",
       "      <td>0.9</td>\n",
       "      <td>0.00</td>\n",
       "      <td>0.05</td>\n",
       "    </tr>\n",
       "    <tr>\n",
       "      <th>1</th>\n",
       "      <td>Nuts, pecans</td>\n",
       "      <td>70.0</td>\n",
       "      <td>9.17</td>\n",
       "      <td>13.86</td>\n",
       "      <td>9.6</td>\n",
       "      <td>3.97</td>\n",
       "      <td>71.97</td>\n",
       "    </tr>\n",
       "    <tr>\n",
       "      <th>2</th>\n",
       "      <td>Eggplant, raw</td>\n",
       "      <td>9.0</td>\n",
       "      <td>0.98</td>\n",
       "      <td>5.88</td>\n",
       "      <td>3.0</td>\n",
       "      <td>3.53</td>\n",
       "      <td>0.18</td>\n",
       "    </tr>\n",
       "    <tr>\n",
       "      <th>3</th>\n",
       "      <td>Teff, uncooked</td>\n",
       "      <td>180.0</td>\n",
       "      <td>13.30</td>\n",
       "      <td>73.13</td>\n",
       "      <td>8.0</td>\n",
       "      <td>1.84</td>\n",
       "      <td>2.38</td>\n",
       "    </tr>\n",
       "    <tr>\n",
       "      <th>4</th>\n",
       "      <td>Sherbet, orange</td>\n",
       "      <td>54.0</td>\n",
       "      <td>1.10</td>\n",
       "      <td>30.40</td>\n",
       "      <td>1.3</td>\n",
       "      <td>24.32</td>\n",
       "      <td>2.00</td>\n",
       "    </tr>\n",
       "  </tbody>\n",
       "</table>\n",
       "</div>"
      ],
      "text/plain": [
       "              name  calcium  protein  carbohydrate  fiber  sugars    fat\n",
       "0       Cornstarch      2.0     0.26         91.27    0.9    0.00   0.05\n",
       "1     Nuts, pecans     70.0     9.17         13.86    9.6    3.97  71.97\n",
       "2    Eggplant, raw      9.0     0.98          5.88    3.0    3.53   0.18\n",
       "3   Teff, uncooked    180.0    13.30         73.13    8.0    1.84   2.38\n",
       "4  Sherbet, orange     54.0     1.10         30.40    1.3   24.32   2.00"
      ]
     },
     "execution_count": 9,
     "metadata": {},
     "output_type": "execute_result"
    }
   ],
   "source": [
    "df.head()"
   ]
  },
  {
   "cell_type": "code",
   "execution_count": 10,
   "id": "a3e63dfc",
   "metadata": {},
   "outputs": [
    {
     "data": {
      "text/plain": [
       "array(['Cornstarch', 'Nuts, pecans', 'Eggplant, raw', ...,\n",
       "       'Lamb, raw, separable lean and fat, composite of trimmed retail cuts, frozen, imported, New Zealand',\n",
       "       'Beef, raw, all grades, trimmed to 0\" fat, separable lean only, boneless, eye of round roast, round',\n",
       "       'Beef, raw, all grades, trimmed to 0\" fat, separable lean only, boneless, eye of round steak, round'],\n",
       "      dtype=object)"
      ]
     },
     "execution_count": 10,
     "metadata": {},
     "output_type": "execute_result"
    }
   ],
   "source": [
    "df['name'].unique()"
   ]
  },
  {
   "cell_type": "code",
   "execution_count": 11,
   "id": "aa85f62d",
   "metadata": {},
   "outputs": [
    {
     "data": {
      "text/plain": [
       "name            0\n",
       "calcium         0\n",
       "protein         0\n",
       "carbohydrate    0\n",
       "fiber           0\n",
       "sugars          0\n",
       "fat             0\n",
       "dtype: int64"
      ]
     },
     "execution_count": 11,
     "metadata": {},
     "output_type": "execute_result"
    }
   ],
   "source": [
    "null_values = df.isnull().sum()\n",
    "null_values"
   ]
  },
  {
   "cell_type": "code",
   "execution_count": 12,
   "id": "98b7c569",
   "metadata": {},
   "outputs": [],
   "source": [
    "df['nutritional_profile'] = df[columns_to_clean].astype(str).agg(' '.join, axis=1)\n"
   ]
  },
  {
   "cell_type": "code",
   "execution_count": 13,
   "id": "d8413fb4",
   "metadata": {},
   "outputs": [],
   "source": [
    "tfidf_vectorizer = TfidfVectorizer()\n",
    "tfidf_matrix = tfidf_vectorizer.fit_transform(df['nutritional_profile'])"
   ]
  },
  {
   "cell_type": "code",
   "execution_count": 14,
   "id": "3addef3d",
   "metadata": {},
   "outputs": [],
   "source": [
    "cosine_sim = cosine_similarity(tfidf_matrix, tfidf_matrix)"
   ]
  },
  {
   "cell_type": "code",
   "execution_count": 15,
   "id": "5116db00",
   "metadata": {},
   "outputs": [],
   "source": [
    "def recommend_similar_food(food_item, cosine_sim=cosine_sim, df=df, num_recommendations=5):\n",
    "    # Get the index of the food item\n",
    "    idx = df[df['name'] == food_item].index[0]\n",
    "    sim_scores = list(enumerate(cosine_sim[idx]))\n",
    "    sim_scores = sorted(sim_scores, key=lambda x: x[1], reverse=True)\n",
    "    sim_indices = [i[0] for i in sim_scores[1:num_recommendations+1]]\n",
    "    return df.iloc[sim_indices]"
   ]
  },
  {
   "cell_type": "code",
   "execution_count": 16,
   "id": "ae16d3a0",
   "metadata": {},
   "outputs": [
    {
     "name": "stdout",
     "output_type": "stream",
     "text": [
      "Recommended similar food items:\n",
      "                                                   name  calcium  protein  \\\n",
      "4578  MURRAY, Vanilla Creme Sandwich Cookies, SUGAR ...      0.0     4.90   \n",
      "1463                 Cake, prepared from recipe, sponge     42.0     7.30   \n",
      "4082  Cookies, regular, sugar wafers with creme filling     27.0     3.84   \n",
      "5547  KELLOGG'S, Frosted Blueberry Muffin Toaster Pa...      0.0     4.00   \n",
      "939                         Bread, canned, boston brown     70.0     5.20   \n",
      "\n",
      "      carbohydrate  fiber  sugars    fat  \n",
      "4578         70.00    3.4    1.20  23.10  \n",
      "1463         57.70    0.0    0.00   4.30  \n",
      "4082         70.64    1.6   42.95  23.24  \n",
      "5547         70.90    1.1   27.60  10.90  \n",
      "939          43.30    4.7    2.42   1.50  \n"
     ]
    }
   ],
   "source": [
    "\n",
    "given_food_item = 'Figs, stewed, dried' \n",
    "recommended_food_items = recommend_similar_food(given_food_item)\n",
    "print(\"Recommended similar food items:\")\n",
    "print(recommended_food_items[['name', 'calcium', 'protein', 'carbohydrate', 'fiber', 'sugars', 'fat']])\n"
   ]
  },
  {
   "cell_type": "code",
   "execution_count": 17,
   "id": "44c2546a",
   "metadata": {},
   "outputs": [],
   "source": [
    "# Sample ground truth data\n",
    "ground_truth = {\n",
    "    'Figs, stewed, dried': ['MURRAY, Vanilla Creme Sandwich Cookies, SUGAR FREE', \n",
    "                            'Cake, prepared from recipe, sponge', \n",
    "                            'Cookies, regular, sugar wafers with creme filling', \n",
    "                            'KELLOGG\\'S, Frosted Blueberry Muffin Toaster Pastries', \n",
    "                            'Bread, canned, boston brown'],\n",
    "    # Add more ground truth data for other food items\n",
    "}\n"
   ]
  },
  {
   "cell_type": "code",
   "execution_count": 18,
   "id": "63f1ec08",
   "metadata": {},
   "outputs": [
    {
     "name": "stdout",
     "output_type": "stream",
     "text": [
      "Food item: Figs, stewed, dried\n",
      "Recommended items: ['MURRAY, Vanilla Creme Sandwich Cookies, SUGAR FREE', 'Cake, prepared from recipe, sponge', 'Cookies, regular, sugar wafers with creme filling', \"KELLOGG'S, Frosted Blueberry Muffin Toaster Pastries, POP-TARTS\", 'Bread, canned, boston brown']\n",
      "Ground truth items: ['MURRAY, Vanilla Creme Sandwich Cookies, SUGAR FREE', 'Cake, prepared from recipe, sponge', 'Cookies, regular, sugar wafers with creme filling', \"KELLOGG'S, Frosted Blueberry Muffin Toaster Pastries\", 'Bread, canned, boston brown']\n",
      "Precision: 0.8, Recall: 0.8, F1-score: 0.8000000000000002\n",
      "--------------------------------------------------\n",
      "Overall Precision: 0.8\n",
      "Overall Recall: 0.8\n",
      "Overall F1-score: 0.8000000000000002\n"
     ]
    }
   ],
   "source": [
    "from sklearn.metrics import precision_score, recall_score, f1_score\n",
    "\n",
    "# Function to calculate precision, recall, and F1-score\n",
    "def calculate_metrics(recommendations, ground_truth_set):\n",
    "    true_positives = len(set(recommendations) & set(ground_truth_set))\n",
    "    false_positives = len(set(recommendations) - set(ground_truth_set))\n",
    "    false_negatives = len(set(ground_truth_set) - set(recommendations))\n",
    "    \n",
    "    precision = true_positives / (true_positives + false_positives) if (true_positives + false_positives) > 0 else 0\n",
    "    recall = true_positives / (true_positives + false_negatives) if (true_positives + false_negatives) > 0 else 0\n",
    "    f1 = 2 * (precision * recall) / (precision + recall) if (precision + recall) > 0 else 0\n",
    "    \n",
    "    return precision, recall, f1\n",
    "\n",
    "# Calculate metrics for each item in the ground truth\n",
    "overall_precision = []\n",
    "overall_recall = []\n",
    "overall_f1 = []\n",
    "\n",
    "for food_item, ground_truth_items in ground_truth.items():\n",
    "    recommended_items = recommend_similar_food(food_item)['name'].tolist()\n",
    "    precision, recall, f1 = calculate_metrics(recommended_items, ground_truth_items)\n",
    "    \n",
    "    overall_precision.append(precision)\n",
    "    overall_recall.append(recall)\n",
    "    overall_f1.append(f1)\n",
    "    \n",
    "    print(f\"Food item: {food_item}\")\n",
    "    print(f\"Recommended items: {recommended_items}\")\n",
    "    print(f\"Ground truth items: {ground_truth_items}\")\n",
    "    print(f\"Precision: {precision}, Recall: {recall}, F1-score: {f1}\")\n",
    "    print(\"-\" * 50)\n",
    "\n",
    "# Calculate and print overall metrics\n",
    "mean_precision = sum(overall_precision) / len(overall_precision)\n",
    "mean_recall = sum(overall_recall) / len(overall_recall)\n",
    "mean_f1 = sum(overall_f1) / len(overall_f1)\n",
    "\n",
    "print(f\"Overall Precision: {mean_precision}\")\n",
    "print(f\"Overall Recall: {mean_recall}\")\n",
    "print(f\"Overall F1-score: {mean_f1}\")\n"
   ]
  },
  {
   "cell_type": "code",
   "execution_count": null,
   "id": "d5d44132",
   "metadata": {},
   "outputs": [],
   "source": []
  },
  {
   "cell_type": "code",
   "execution_count": null,
   "id": "958dc31b",
   "metadata": {},
   "outputs": [],
   "source": []
  },
  {
   "cell_type": "code",
   "execution_count": null,
   "id": "bbc80e46",
   "metadata": {},
   "outputs": [],
   "source": []
  }
 ],
 "metadata": {
  "kernelspec": {
   "display_name": "Python 3 (ipykernel)",
   "language": "python",
   "name": "python3"
  },
  "language_info": {
   "codemirror_mode": {
    "name": "ipython",
    "version": 3
   },
   "file_extension": ".py",
   "mimetype": "text/x-python",
   "name": "python",
   "nbconvert_exporter": "python",
   "pygments_lexer": "ipython3",
   "version": "3.10.9"
  }
 },
 "nbformat": 4,
 "nbformat_minor": 5
}
